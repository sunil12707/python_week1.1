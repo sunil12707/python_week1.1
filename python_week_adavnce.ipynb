{
  "nbformat": 4,
  "nbformat_minor": 0,
  "metadata": {
    "colab": {
      "provenance": []
    },
    "kernelspec": {
      "name": "python3",
      "display_name": "Python 3"
    },
    "language_info": {
      "name": "python"
    }
  },
  "cells": [
    {
      "cell_type": "markdown",
      "source": [
        "**python_output_function**"
      ],
      "metadata": {
        "id": "X5Hvoz8xMXN-"
      }
    },
    {
      "cell_type": "code",
      "execution_count": null,
      "metadata": {
        "colab": {
          "base_uri": "https://localhost:8080/"
        },
        "id": "rFhf5LnOMEw7",
        "outputId": "4ef2079d-f1a9-430e-8312-bc5fcf65218a"
      },
      "outputs": [
        {
          "output_type": "stream",
          "name": "stdout",
          "text": [
            "hloo\n",
            "\n",
            "sunil\n"
          ]
        }
      ],
      "source": [
        "print(\"hloo\")\n",
        "print()# this is output function used to display a blank line\n",
        "print(\"sunil\")"
      ]
    },
    {
      "cell_type": "code",
      "source": [
        "print(\"sunil\")"
      ],
      "metadata": {
        "colab": {
          "base_uri": "https://localhost:8080/"
        },
        "id": "JOQVSfr5MF--",
        "outputId": "22c517b6-909f-41ac-f078-ff4b18f8ce0e"
      },
      "execution_count": null,
      "outputs": [
        {
          "output_type": "stream",
          "name": "stdout",
          "text": [
            "sunil\n"
          ]
        }
      ]
    },
    {
      "cell_type": "code",
      "source": [
        "print(\"welcome to space window\")"
      ],
      "metadata": {
        "colab": {
          "base_uri": "https://localhost:8080/"
        },
        "id": "M6_9vYFSMGCU",
        "outputId": "d8dc9585-9bb7-442a-84d5-60d520b9730a"
      },
      "execution_count": null,
      "outputs": [
        {
          "output_type": "stream",
          "name": "stdout",
          "text": [
            "welcome to space window\n"
          ]
        }
      ]
    },
    {
      "cell_type": "code",
      "source": [
        "print(\"sunil\",\"jaswal\",\"india\")"
      ],
      "metadata": {
        "colab": {
          "base_uri": "https://localhost:8080/"
        },
        "id": "T7UgorZjMurD",
        "outputId": "84edfbe2-5629-464d-f6a5-838075436bb6"
      },
      "execution_count": null,
      "outputs": [
        {
          "output_type": "stream",
          "name": "stdout",
          "text": [
            "sunil jaswal india\n"
          ]
        }
      ]
    },
    {
      "cell_type": "code",
      "source": [
        "print(10)"
      ],
      "metadata": {
        "colab": {
          "base_uri": "https://localhost:8080/"
        },
        "id": "1idqAMGrM4ue",
        "outputId": "33748eaa-afa2-4616-a539-29a9dfbde31e"
      },
      "execution_count": null,
      "outputs": [
        {
          "output_type": "stream",
          "name": "stdout",
          "text": [
            "10\n"
          ]
        }
      ]
    },
    {
      "cell_type": "code",
      "source": [
        "print(10.5)"
      ],
      "metadata": {
        "colab": {
          "base_uri": "https://localhost:8080/"
        },
        "id": "oZZu95CBM9ix",
        "outputId": "0de13022-0992-4e18-a796-4595b5d1dedc"
      },
      "execution_count": null,
      "outputs": [
        {
          "output_type": "stream",
          "name": "stdout",
          "text": [
            "10.5\n"
          ]
        }
      ]
    },
    {
      "cell_type": "code",
      "source": [
        "print(\"heloo world\")\n",
        "print(\"to\")\n",
        "print(\"helo jaswal\")"
      ],
      "metadata": {
        "colab": {
          "base_uri": "https://localhost:8080/"
        },
        "id": "PvUeG8TvM--T",
        "outputId": "8ae633f0-1bae-463d-b979-e41a278b08c3"
      },
      "execution_count": null,
      "outputs": [
        {
          "output_type": "stream",
          "name": "stdout",
          "text": [
            "heloo world\n",
            "to\n",
            "helo jaswal\n"
          ]
        }
      ]
    },
    {
      "cell_type": "code",
      "source": [
        "print(\"i am doing job in space window\")\n",
        "print()\n",
        "print(\"i am data scientis\")\n",
        "print(\"sunil\",\"jaswal\",\"india\")"
      ],
      "metadata": {
        "colab": {
          "base_uri": "https://localhost:8080/"
        },
        "id": "3xN5pauLNG0H",
        "outputId": "3afb388d-1b71-4888-b46f-b92f0750b1a3"
      },
      "execution_count": null,
      "outputs": [
        {
          "output_type": "stream",
          "name": "stdout",
          "text": [
            "i am doing job in space window\n",
            "\n",
            "i am data scientis\n",
            "sunil jaswal india\n"
          ]
        }
      ]
    },
    {
      "cell_type": "code",
      "source": [
        "print(type(10.5))"
      ],
      "metadata": {
        "colab": {
          "base_uri": "https://localhost:8080/"
        },
        "id": "aQobhLKJNLgC",
        "outputId": "8d019504-144e-41ae-f234-f5f7046d5465"
      },
      "execution_count": null,
      "outputs": [
        {
          "output_type": "stream",
          "name": "stdout",
          "text": [
            "<class 'float'>\n"
          ]
        }
      ]
    },
    {
      "cell_type": "code",
      "source": [
        "print(\"i\",\"love\",\"my\",\"india\")"
      ],
      "metadata": {
        "colab": {
          "base_uri": "https://localhost:8080/"
        },
        "id": "8xBWcudQNLjE",
        "outputId": "72c4d658-cafa-4d52-892a-cdb75ca07d47"
      },
      "execution_count": null,
      "outputs": [
        {
          "output_type": "stream",
          "name": "stdout",
          "text": [
            "i love my india\n"
          ]
        }
      ]
    },
    {
      "cell_type": "code",
      "source": [
        "print(\"i\",\"love\",\"my\",\"india\",sep=\" \")"
      ],
      "metadata": {
        "colab": {
          "base_uri": "https://localhost:8080/"
        },
        "id": "Tdms2LdrNLms",
        "outputId": "dfdb2748-dc6d-453c-b75b-dede7f70d948"
      },
      "execution_count": null,
      "outputs": [
        {
          "output_type": "stream",
          "name": "stdout",
          "text": [
            "i love my india\n"
          ]
        }
      ]
    },
    {
      "cell_type": "code",
      "source": [
        "print(\"i\",\"love\",\"my\",\"india\",sep=\"\")"
      ],
      "metadata": {
        "colab": {
          "base_uri": "https://localhost:8080/"
        },
        "id": "MHnUyTwuOsG6",
        "outputId": "0df00c07-a5af-4b78-98e6-5472929c5c59"
      },
      "execution_count": null,
      "outputs": [
        {
          "output_type": "stream",
          "name": "stdout",
          "text": [
            "ilovemyindia\n"
          ]
        }
      ]
    },
    {
      "cell_type": "code",
      "source": [
        "print(\"i\",\"love\",\"my\",\"india\",sep=\"***\")"
      ],
      "metadata": {
        "colab": {
          "base_uri": "https://localhost:8080/"
        },
        "id": "Zu8iqo9pOvZN",
        "outputId": "6fcd348a-116e-4173-e99a-02bb9b34eb31"
      },
      "execution_count": null,
      "outputs": [
        {
          "output_type": "stream",
          "name": "stdout",
          "text": [
            "i***love***my***india\n"
          ]
        }
      ]
    },
    {
      "cell_type": "code",
      "source": [
        "print(\"i\",\"love\",\"my\",\"india\",sep=\"-\")"
      ],
      "metadata": {
        "colab": {
          "base_uri": "https://localhost:8080/"
        },
        "id": "VCC3p4vyOxX-",
        "outputId": "102b395b-c05a-4b53-9beb-7715d793b7f4"
      },
      "execution_count": null,
      "outputs": [
        {
          "output_type": "stream",
          "name": "stdout",
          "text": [
            "i-love-my-india\n"
          ]
        }
      ]
    },
    {
      "cell_type": "code",
      "source": [
        "print(\"i\",\"love\",\"my\",\"india\",sep=\"_\")"
      ],
      "metadata": {
        "colab": {
          "base_uri": "https://localhost:8080/"
        },
        "id": "_amYu6rvO0PO",
        "outputId": "5516d729-1256-4527-fb53-8bfe30cdcc63"
      },
      "execution_count": null,
      "outputs": [
        {
          "output_type": "stream",
          "name": "stdout",
          "text": [
            "i_love_my_india\n"
          ]
        }
      ]
    },
    {
      "cell_type": "code",
      "source": [
        "print(\"i am doing job in space window\",sep=\"***\")"
      ],
      "metadata": {
        "colab": {
          "base_uri": "https://localhost:8080/"
        },
        "id": "lIByYJXNO21t",
        "outputId": "20f284d2-ae26-4838-94b4-d73223e62bef"
      },
      "execution_count": null,
      "outputs": [
        {
          "output_type": "stream",
          "name": "stdout",
          "text": [
            "i am doing job in space window\n"
          ]
        }
      ]
    },
    {
      "cell_type": "code",
      "source": [
        "print(\"heloo world\")#end=\"\\n\" by default present in print function\n",
        "print(\"to\")\n",
        "print(\"helo jaswal\")"
      ],
      "metadata": {
        "colab": {
          "base_uri": "https://localhost:8080/"
        },
        "id": "cl2NPuGXO6y6",
        "outputId": "dd7bffad-5818-4890-ad65-f069dc24615d"
      },
      "execution_count": null,
      "outputs": [
        {
          "output_type": "stream",
          "name": "stdout",
          "text": [
            "heloo world\n",
            "to\n",
            "helo jaswal\n"
          ]
        }
      ]
    },
    {
      "cell_type": "code",
      "source": [
        "print(\"heloo world\",end=\"\\n\")#end=\"\\n\" by default present in print function\n",
        "print(\"to\",end=\"\\n\")\n",
        "print(\"helo jaswal\",end=\"\\n\")"
      ],
      "metadata": {
        "colab": {
          "base_uri": "https://localhost:8080/"
        },
        "id": "lcbkrYzVPe1t",
        "outputId": "91fed290-ab69-44d5-a621-d9892943dc5f"
      },
      "execution_count": null,
      "outputs": [
        {
          "output_type": "stream",
          "name": "stdout",
          "text": [
            "heloo world\n",
            "to\n",
            "helo jaswal\n"
          ]
        }
      ]
    },
    {
      "cell_type": "code",
      "source": [
        "print(\"helooworld\",end=\"\")#end=\"\\n\" by default present in print function\n",
        "print(\"to\",end=\"\")\n",
        "print(\"helojaswal\",end=\"\")"
      ],
      "metadata": {
        "colab": {
          "base_uri": "https://localhost:8080/"
        },
        "id": "Gy-SXQclPy8i",
        "outputId": "2896e4f7-65bb-4a6e-a788-a7820fa268d4"
      },
      "execution_count": null,
      "outputs": [
        {
          "output_type": "stream",
          "name": "stdout",
          "text": [
            "helooworldtohelojaswal"
          ]
        }
      ]
    },
    {
      "cell_type": "code",
      "source": [
        "print(\"helooworld\",end=\" \")#end=\"\\n\" by default present in print function\n",
        "print(\"to\",end=\" \")\n",
        "print(\"helojaswal\",end=\" \")"
      ],
      "metadata": {
        "colab": {
          "base_uri": "https://localhost:8080/"
        },
        "id": "QRok-YepQJrV",
        "outputId": "9fce1327-27b7-4796-d16c-b2dd06d9ba1f"
      },
      "execution_count": null,
      "outputs": [
        {
          "output_type": "stream",
          "name": "stdout",
          "text": [
            "helooworld to helojaswal "
          ]
        }
      ]
    },
    {
      "cell_type": "code",
      "source": [
        "print(\"helooworld\",end=\"\\t\")#end=\"\\n\" by default present in print function\n",
        "print(\"to\",end=\"\\t\")\n",
        "print(\"helojaswal\",end=\"\\t\")"
      ],
      "metadata": {
        "colab": {
          "base_uri": "https://localhost:8080/"
        },
        "id": "gd4rY4oUQSrP",
        "outputId": "cb4898e3-4226-4a48-9cce-3ed0cd82de85"
      },
      "execution_count": null,
      "outputs": [
        {
          "output_type": "stream",
          "name": "stdout",
          "text": [
            "helooworld\tto\thelojaswal\t"
          ]
        }
      ]
    },
    {
      "cell_type": "code",
      "source": [
        "a=30\n",
        "b=40\n",
        "print(a,b)"
      ],
      "metadata": {
        "colab": {
          "base_uri": "https://localhost:8080/"
        },
        "id": "hj-XdUGZQnHB",
        "outputId": "42aaee36-ba28-48d0-9c9e-a71ad0105e4d"
      },
      "execution_count": null,
      "outputs": [
        {
          "output_type": "stream",
          "name": "stdout",
          "text": [
            "30 40\n"
          ]
        }
      ]
    },
    {
      "cell_type": "code",
      "source": [
        "a=30\n",
        "b=40\n",
        "print(a,b,sep=\",\")"
      ],
      "metadata": {
        "colab": {
          "base_uri": "https://localhost:8080/"
        },
        "id": "4rlqzd9TQyIr",
        "outputId": "23d3a34f-5340-4897-9c3d-75d5556e5329"
      },
      "execution_count": null,
      "outputs": [
        {
          "output_type": "stream",
          "name": "stdout",
          "text": [
            "30,40\n"
          ]
        }
      ]
    },
    {
      "cell_type": "code",
      "source": [
        "name=\"rahul\"\n",
        "age=62\n",
        "print(\"my name is\",name,\"my age is\",age)"
      ],
      "metadata": {
        "colab": {
          "base_uri": "https://localhost:8080/"
        },
        "id": "csTlcnLyQ1rk",
        "outputId": "cbcf217e-9425-40fc-f110-777d28e1bcfd"
      },
      "execution_count": null,
      "outputs": [
        {
          "output_type": "stream",
          "name": "stdout",
          "text": [
            "my name is rahul my age is 62\n"
          ]
        }
      ]
    },
    {
      "cell_type": "code",
      "source": [
        "starting_time=time.time()\n",
        "k=0\n",
        "while k<10:\n",
        "  print(\"I am sunil\")\n",
        "  k+=1\n",
        "print(f\"total_time for While Loop {time.time()-starting_time} seconds\")\n",
        "starting_time2=time.time()\n",
        "for i in range(10):\n",
        "  print(\"Sunil_jaswal\")\n",
        "print(f\"total_time for While Loop {time.time()-starting_time2} seconds\")\n",
        "print(\"another sleep program\")\n",
        "#time.sleep\n",
        "starting_time=time.time()\n",
        "k=0\n",
        "while k<10:\n",
        "  print(\"I am sunil\")\n",
        "  time.sleep(3)# i am sunil line print after the two seconds\n",
        "  k+=1\n",
        "print(f\"total_time for While Loop {time.time()-starting_time} seconds\")\n",
        "starting_time2=time.time()\n",
        "for i in range(10):\n",
        "  print(\"Sunil_jaswal\")\n",
        "print(f\"total_time for While Loop {time.time()-starting_time2} seconds\")\n",
        "\n"
      ],
      "metadata": {
        "id": "Zo-ZCQSSRIpf"
      },
      "execution_count": null,
      "outputs": []
    },
    {
      "cell_type": "code",
      "source": [
        "a=1\n",
        "while a<=10:\n",
        "  print(\"heloo\")\n",
        "\n"
      ],
      "metadata": {
        "id": "dKvlESuHPrOG"
      },
      "execution_count": null,
      "outputs": []
    },
    {
      "cell_type": "code",
      "source": [
        "a=1\n",
        "while a<=10:\n",
        "  print(\"heloo\")\n",
        "  a+=1\n"
      ],
      "metadata": {
        "id": "vraPjk_GQw-d"
      },
      "execution_count": null,
      "outputs": []
    },
    {
      "cell_type": "markdown",
      "source": [
        "**while_loop**"
      ],
      "metadata": {
        "id": "-y6uFOU9-Yn6"
      }
    },
    {
      "cell_type": "code",
      "source": [
        "a=1\n",
        "while a<=10:\n",
        "  print(\"heloo\")\n",
        "  a+=1\n",
        "print(\"rest of code\")"
      ],
      "metadata": {
        "colab": {
          "base_uri": "https://localhost:8080/"
        },
        "id": "tm__a1ks-XIJ",
        "outputId": "2ce2a4bc-af8f-4306-9b6f-dc883226356a"
      },
      "execution_count": null,
      "outputs": [
        {
          "output_type": "stream",
          "name": "stdout",
          "text": [
            "heloo\n",
            "heloo\n",
            "heloo\n",
            "heloo\n",
            "heloo\n",
            "heloo\n",
            "heloo\n",
            "heloo\n",
            "heloo\n",
            "heloo\n",
            "rest of code\n"
          ]
        }
      ]
    },
    {
      "cell_type": "code",
      "source": [
        "a=int(input(\"enter the number you want to print table\"))\n",
        "b=0\n",
        "while b<=5:\n",
        "  print(b*a)\n",
        "  b=b+1"
      ],
      "metadata": {
        "colab": {
          "base_uri": "https://localhost:8080/"
        },
        "id": "mubtCLIHS3rl",
        "outputId": "6db18c69-f773-49f8-e510-c09895e6eb02"
      },
      "execution_count": null,
      "outputs": [
        {
          "output_type": "stream",
          "name": "stdout",
          "text": [
            "enter the number you want to print table7\n",
            "0\n",
            "7\n",
            "14\n",
            "21\n",
            "28\n",
            "35\n"
          ]
        }
      ]
    },
    {
      "cell_type": "code",
      "source": [
        "a=2\n",
        "i=1\n",
        "while i<=20:\n",
        "  print(f\"2X{i}={i*a}\")\n",
        "  i=i+2\n"
      ],
      "metadata": {
        "colab": {
          "base_uri": "https://localhost:8080/"
        },
        "id": "c_nRLJURYvaJ",
        "outputId": "49a39426-694d-4dbe-cb8c-98c214740be5"
      },
      "execution_count": null,
      "outputs": [
        {
          "output_type": "stream",
          "name": "stdout",
          "text": [
            "2X1=2\n",
            "2X3=6\n",
            "2X5=10\n",
            "2X7=14\n",
            "2X9=18\n",
            "2X11=22\n",
            "2X13=26\n",
            "2X15=30\n",
            "2X17=34\n",
            "2X19=38\n"
          ]
        }
      ]
    },
    {
      "cell_type": "code",
      "source": [
        "import time\n",
        "a=2\n",
        "i=1\n",
        "while i<=20:\n",
        "  print(f\"2X{i}={i*a}\")\n",
        "  time.sleep(3)\n",
        "  i=i+1\n"
      ],
      "metadata": {
        "colab": {
          "base_uri": "https://localhost:8080/"
        },
        "id": "8oeUfhsYbdZI",
        "outputId": "beeb3db7-f152-4ee4-8586-5943fdab6ce7"
      },
      "execution_count": null,
      "outputs": [
        {
          "output_type": "stream",
          "name": "stdout",
          "text": [
            "2X1=2\n",
            "2X2=4\n",
            "2X3=6\n",
            "2X4=8\n",
            "2X5=10\n",
            "2X6=12\n",
            "2X7=14\n",
            "2X8=16\n",
            "2X9=18\n",
            "2X10=20\n",
            "2X11=22\n",
            "2X12=24\n",
            "2X13=26\n",
            "2X14=28\n",
            "2X15=30\n",
            "2X16=32\n",
            "2X17=34\n",
            "2X18=36\n",
            "2X19=38\n",
            "2X20=40\n"
          ]
        }
      ]
    },
    {
      "cell_type": "code",
      "source": [
        "a=2\n",
        "while a<=20:\n",
        "  print(a)\n",
        "  a+=2"
      ],
      "metadata": {
        "colab": {
          "base_uri": "https://localhost:8080/"
        },
        "id": "5fBC5OJh-XRY",
        "outputId": "fe501630-6943-43cb-d9f9-98381f2ee3ba"
      },
      "execution_count": null,
      "outputs": [
        {
          "output_type": "stream",
          "name": "stdout",
          "text": [
            "2\n",
            "4\n",
            "6\n",
            "8\n",
            "10\n",
            "12\n",
            "14\n",
            "16\n",
            "18\n",
            "20\n"
          ]
        }
      ]
    },
    {
      "cell_type": "code",
      "source": [
        "a=10\n",
        "while a>=0:\n",
        "  print(a*\"*\")\n",
        "  a-=1\n",
        "print(\"rest of code\")"
      ],
      "metadata": {
        "colab": {
          "base_uri": "https://localhost:8080/"
        },
        "id": "VCxTE0H1c-32",
        "outputId": "fabcc9ac-e980-4d23-b6bb-3bce390f6b8c"
      },
      "execution_count": null,
      "outputs": [
        {
          "output_type": "stream",
          "name": "stdout",
          "text": [
            "**********\n",
            "*********\n",
            "********\n",
            "*******\n",
            "******\n",
            "*****\n",
            "****\n",
            "***\n",
            "**\n",
            "*\n",
            "\n",
            "rest of code\n"
          ]
        }
      ]
    },
    {
      "cell_type": "code",
      "source": [],
      "metadata": {
        "id": "hwE1CZc5c-7S"
      },
      "execution_count": null,
      "outputs": []
    },
    {
      "cell_type": "markdown",
      "source": [
        "**while_else**"
      ],
      "metadata": {
        "id": "WJu__2zREfvW"
      }
    },
    {
      "cell_type": "markdown",
      "source": [
        "**# if while block excute sucessfull in natural way then else block will be excuted otherwise else block does not excute.**"
      ],
      "metadata": {
        "id": "qps8EEPcFbdp"
      }
    },
    {
      "cell_type": "code",
      "source": [
        "a=2\n",
        "while a<=20:\n",
        "  print(a)\n",
        "  a=a+1\n",
        "else:\n",
        "  print(\"else condtion become false so else part get excuted\")\n",
        "print(\" i learning while loop with else\")"
      ],
      "metadata": {
        "id": "XBijK5is-XUw",
        "colab": {
          "base_uri": "https://localhost:8080/"
        },
        "outputId": "8fe6c944-f843-4a49-fbd4-4c89bcfebfdf"
      },
      "execution_count": null,
      "outputs": [
        {
          "output_type": "stream",
          "name": "stdout",
          "text": [
            "2\n",
            "3\n",
            "4\n",
            "5\n",
            "6\n",
            "7\n",
            "8\n",
            "9\n",
            "10\n",
            "11\n",
            "12\n",
            "13\n",
            "14\n",
            "15\n",
            "16\n",
            "17\n",
            "18\n",
            "19\n",
            "20\n",
            "else condtion become false so else part get excuted\n",
            " i learning while loop with else\n"
          ]
        }
      ]
    },
    {
      "cell_type": "code",
      "source": [
        "a=21\n",
        "while a<=20:\n",
        "  print(a)\n",
        "  a=a+1\n",
        "else:\n",
        "  print(\"else condtion become false so else part get excuted\")\n",
        "print(\" i learning while loop with else\")"
      ],
      "metadata": {
        "colab": {
          "base_uri": "https://localhost:8080/"
        },
        "id": "P2jsEBkRF4a0",
        "outputId": "d8d3503d-fe10-4e2f-f494-b0eb82ee2230"
      },
      "execution_count": null,
      "outputs": [
        {
          "output_type": "stream",
          "name": "stdout",
          "text": [
            "else condtion become false so else part get excuted\n",
            " i learning while loop with else\n"
          ]
        }
      ]
    },
    {
      "cell_type": "markdown",
      "source": [
        "**first two cases we while excute succesfully,,and else block also excuted**"
      ],
      "metadata": {
        "id": "pPJ3AqLxF76_"
      }
    },
    {
      "cell_type": "code",
      "source": [
        "n=4\n",
        "i=1\n",
        "while i<n:\n",
        "  print(i)\n",
        "  i=i+1\n",
        "  if i==3:\n",
        "    break\n",
        "else:\n",
        "  print('this my else block')"
      ],
      "metadata": {
        "colab": {
          "base_uri": "https://localhost:8080/"
        },
        "id": "S2uwScrHE4yi",
        "outputId": "13b0ff1a-f57d-432e-ac1f-bfb214d19f38"
      },
      "execution_count": null,
      "outputs": [
        {
          "output_type": "stream",
          "name": "stdout",
          "text": [
            "1\n",
            "2\n"
          ]
        }
      ]
    },
    {
      "cell_type": "markdown",
      "source": [
        "**infinite while loop**"
      ],
      "metadata": {
        "id": "JEJ6mUCXGgIv"
      }
    },
    {
      "cell_type": "code",
      "source": [
        "#false\n",
        "while False:\n",
        "  print(\"hloo\")"
      ],
      "metadata": {
        "id": "mlu9AuiHHCw3"
      },
      "execution_count": null,
      "outputs": []
    },
    {
      "cell_type": "code",
      "source": [
        "#True\n",
        "while True:\n",
        "  print(\"hlooo\")"
      ],
      "metadata": {
        "id": "Jg1oq9zmHHru"
      },
      "execution_count": null,
      "outputs": []
    },
    {
      "cell_type": "code",
      "source": [
        "#True\n",
        "i=0\n",
        "while True:\n",
        "\n",
        "  print(\"hlooo\")\n",
        "  i=i+1\n",
        "  if i==5:\n",
        "    break"
      ],
      "metadata": {
        "colab": {
          "base_uri": "https://localhost:8080/"
        },
        "id": "9-eXqQWeIz6n",
        "outputId": "a3c33322-d381-494a-8110-98d9e573da48"
      },
      "execution_count": null,
      "outputs": [
        {
          "output_type": "stream",
          "name": "stdout",
          "text": [
            "hlooo\n",
            "hlooo\n",
            "hlooo\n",
            "hlooo\n",
            "hlooo\n"
          ]
        }
      ]
    },
    {
      "cell_type": "markdown",
      "source": [
        "**nested while loop**"
      ],
      "metadata": {
        "id": "VT5hqHc4JR0C"
      }
    },
    {
      "cell_type": "code",
      "source": [
        "i=1\n",
        "while i<=3:\n",
        "  print(\"outer loop\",i)\n",
        "  i=i+1\n",
        "  j=0\n",
        "  while j<=5:\n",
        "    print(\"inner loop\",j)\n",
        "    j=j+1\n",
        "print(\"nested loop\")"
      ],
      "metadata": {
        "colab": {
          "base_uri": "https://localhost:8080/"
        },
        "id": "kBxFfIXEMXdj",
        "outputId": "27bf3f8b-7036-437b-8cd3-e1b6d42f99cf"
      },
      "execution_count": null,
      "outputs": [
        {
          "output_type": "stream",
          "name": "stdout",
          "text": [
            "outer loop 1\n",
            "inner loop 0\n",
            "inner loop 1\n",
            "inner loop 2\n",
            "inner loop 3\n",
            "inner loop 4\n",
            "inner loop 5\n",
            "outer loop 2\n",
            "inner loop 0\n",
            "inner loop 1\n",
            "inner loop 2\n",
            "inner loop 3\n",
            "inner loop 4\n",
            "inner loop 5\n",
            "outer loop 3\n",
            "inner loop 0\n",
            "inner loop 1\n",
            "inner loop 2\n",
            "inner loop 3\n",
            "inner loop 4\n",
            "inner loop 5\n",
            "nested loop\n"
          ]
        }
      ]
    },
    {
      "cell_type": "markdown",
      "source": [
        "**for_loop**"
      ],
      "metadata": {
        "id": "gnaOVUw3OMCy"
      }
    },
    {
      "cell_type": "code",
      "source": [
        "s=\"sunil\"\n",
        "for i in s:\n",
        "  print(i)"
      ],
      "metadata": {
        "colab": {
          "base_uri": "https://localhost:8080/"
        },
        "id": "2yHu3cq9MlrO",
        "outputId": "877ffd94-67d9-49fb-ff68-ffd8973b05a4"
      },
      "execution_count": null,
      "outputs": [
        {
          "output_type": "stream",
          "name": "stdout",
          "text": [
            "s\n",
            "u\n",
            "n\n",
            "i\n",
            "l\n"
          ]
        }
      ]
    },
    {
      "cell_type": "code",
      "source": [
        "l=[9,8,8,3,\"sunil\",\"space\",\"window\",45.7,89.0,True,False]\n",
        "for i in l:\n",
        "  print(type(i))"
      ],
      "metadata": {
        "colab": {
          "base_uri": "https://localhost:8080/"
        },
        "id": "t3FM-3EvOLRW",
        "outputId": "4eb63495-18a8-4432-a9db-a1df8312f997"
      },
      "execution_count": null,
      "outputs": [
        {
          "output_type": "stream",
          "name": "stdout",
          "text": [
            "<class 'int'>\n",
            "<class 'int'>\n",
            "<class 'int'>\n",
            "<class 'int'>\n",
            "<class 'str'>\n",
            "<class 'str'>\n",
            "<class 'str'>\n",
            "<class 'float'>\n",
            "<class 'float'>\n",
            "<class 'bool'>\n",
            "<class 'bool'>\n"
          ]
        }
      ]
    },
    {
      "cell_type": "markdown",
      "source": [
        "****for_else****"
      ],
      "metadata": {
        "id": "UVClF9ifOina"
      }
    },
    {
      "cell_type": "code",
      "source": [
        "l=[9,8,8,3,\"sunil\",\"space\",\"window\",45.7,89.0,True,False]\n",
        "for i in l:\n",
        "  print(type(i))\n",
        "else:\n",
        "  print(\"this will excute when for loop excute itself completlity \")"
      ],
      "metadata": {
        "colab": {
          "base_uri": "https://localhost:8080/"
        },
        "id": "tTZUOPOGOLUG",
        "outputId": "e2e1021f-b74b-4ea9-b9ce-e343d4e6d875"
      },
      "execution_count": null,
      "outputs": [
        {
          "output_type": "stream",
          "name": "stdout",
          "text": [
            "<class 'int'>\n",
            "<class 'int'>\n",
            "<class 'int'>\n",
            "<class 'int'>\n",
            "<class 'str'>\n",
            "<class 'str'>\n",
            "<class 'str'>\n",
            "<class 'float'>\n",
            "<class 'float'>\n",
            "<class 'bool'>\n",
            "<class 'bool'>\n",
            "this will excute when for loop excute itself completlity \n"
          ]
        }
      ]
    },
    {
      "cell_type": "code",
      "source": [
        "l=[9,8,8,3,\"sunil\",\"space\",\"window\",45.7,89.0,True,False]\n",
        "for i in l:\n",
        "  print(type(i))\n",
        "  if i==45.7:\n",
        "    break\n",
        "else:\n",
        "  print(\"this will excute when for loop excute itself completlity \")"
      ],
      "metadata": {
        "colab": {
          "base_uri": "https://localhost:8080/"
        },
        "id": "3jDbJa7bOLW7",
        "outputId": "60c68605-f054-49c6-db7a-6d2faeccdaa2"
      },
      "execution_count": null,
      "outputs": [
        {
          "output_type": "stream",
          "name": "stdout",
          "text": [
            "<class 'int'>\n",
            "<class 'int'>\n",
            "<class 'int'>\n",
            "<class 'int'>\n",
            "<class 'str'>\n",
            "<class 'str'>\n",
            "<class 'str'>\n",
            "<class 'float'>\n"
          ]
        }
      ]
    },
    {
      "cell_type": "code",
      "source": [
        "l=[9,8,8,3,\"sunil\",\"space\",\"window\",45.7,89.0,True,False]\n",
        "for i in l:\n",
        "  print(type(i))\n",
        "  if i==45.7:\n",
        "    continue\n",
        "  print(i)\n",
        "else:\n",
        "  print(\"this will excute when for loop excute itself completlity \")"
      ],
      "metadata": {
        "colab": {
          "base_uri": "https://localhost:8080/"
        },
        "id": "DE95cNyuOLad",
        "outputId": "a05497ed-42a1-4d56-fb36-1a93484cbac6"
      },
      "execution_count": null,
      "outputs": [
        {
          "output_type": "stream",
          "name": "stdout",
          "text": [
            "<class 'int'>\n",
            "9\n",
            "<class 'int'>\n",
            "8\n",
            "<class 'int'>\n",
            "8\n",
            "<class 'int'>\n",
            "3\n",
            "<class 'str'>\n",
            "sunil\n",
            "<class 'str'>\n",
            "space\n",
            "<class 'str'>\n",
            "window\n",
            "<class 'float'>\n",
            "<class 'float'>\n",
            "89.0\n",
            "<class 'bool'>\n",
            "True\n",
            "<class 'bool'>\n",
            "False\n",
            "this will excute when for loop excute itself completlity \n"
          ]
        }
      ]
    },
    {
      "cell_type": "markdown",
      "source": [
        "**for loop with range**"
      ],
      "metadata": {
        "id": "NZvcXyVlO9kD"
      }
    },
    {
      "cell_type": "code",
      "source": [
        "range(10)"
      ],
      "metadata": {
        "colab": {
          "base_uri": "https://localhost:8080/"
        },
        "id": "OMkTqnwYOwLO",
        "outputId": "18e074dc-53f5-4a77-87f3-cd489acc0044"
      },
      "execution_count": null,
      "outputs": [
        {
          "output_type": "execute_result",
          "data": {
            "text/plain": [
              "range(0, 10)"
            ]
          },
          "metadata": {},
          "execution_count": 22
        }
      ]
    },
    {
      "cell_type": "code",
      "source": [
        "list(range(0,10))"
      ],
      "metadata": {
        "colab": {
          "base_uri": "https://localhost:8080/"
        },
        "id": "W-6LPJ-APEBK",
        "outputId": "2bb9f7ad-8883-4ce0-a5e9-dc5d86d7765f"
      },
      "execution_count": null,
      "outputs": [
        {
          "output_type": "execute_result",
          "data": {
            "text/plain": [
              "[0, 1, 2, 3, 4, 5, 6, 7, 8, 9]"
            ]
          },
          "metadata": {},
          "execution_count": 23
        }
      ]
    },
    {
      "cell_type": "code",
      "source": [
        "a=range(5)\n",
        "for i in a:\n",
        "  print(i)"
      ],
      "metadata": {
        "colab": {
          "base_uri": "https://localhost:8080/"
        },
        "id": "vnDy35xiPGu2",
        "outputId": "d23471e6-66ae-4eb1-fef7-deebb10b7c15"
      },
      "execution_count": null,
      "outputs": [
        {
          "output_type": "stream",
          "name": "stdout",
          "text": [
            "0\n",
            "1\n",
            "2\n",
            "3\n",
            "4\n"
          ]
        }
      ]
    },
    {
      "cell_type": "code",
      "source": [
        "a=range(1,5)\n",
        "for i in a:\n",
        "  print(i)"
      ],
      "metadata": {
        "colab": {
          "base_uri": "https://localhost:8080/"
        },
        "id": "iw2e2PoPPetV",
        "outputId": "a4a32dcf-aff5-40fd-fb85-2e5f6e91af8b"
      },
      "execution_count": null,
      "outputs": [
        {
          "output_type": "stream",
          "name": "stdout",
          "text": [
            "1\n",
            "2\n",
            "3\n",
            "4\n"
          ]
        }
      ]
    },
    {
      "cell_type": "code",
      "source": [
        "a=range(1,10,3)\n",
        "for i in a:\n",
        "  print(i)"
      ],
      "metadata": {
        "colab": {
          "base_uri": "https://localhost:8080/"
        },
        "id": "SxiIV5nbP7Ck",
        "outputId": "52d4631d-578a-442c-a69f-0372a9d0a61c"
      },
      "execution_count": null,
      "outputs": [
        {
          "output_type": "stream",
          "name": "stdout",
          "text": [
            "1\n",
            "4\n",
            "7\n"
          ]
        }
      ]
    },
    {
      "cell_type": "code",
      "source": [
        "a=range(1,10,2)\n",
        "for i in a:\n",
        "  print(i)"
      ],
      "metadata": {
        "colab": {
          "base_uri": "https://localhost:8080/"
        },
        "id": "yJOLPtF2P8hv",
        "outputId": "39a6449e-0d0b-48a9-97df-19bd05407331"
      },
      "execution_count": null,
      "outputs": [
        {
          "output_type": "stream",
          "name": "stdout",
          "text": [
            "1\n",
            "3\n",
            "5\n",
            "7\n",
            "9\n"
          ]
        }
      ]
    },
    {
      "cell_type": "code",
      "source": [
        "a=range(-1,-10,-2)\n",
        "for i in a:\n",
        "  print(i)"
      ],
      "metadata": {
        "colab": {
          "base_uri": "https://localhost:8080/"
        },
        "id": "6SG5beFsP8k1",
        "outputId": "aaad0507-a073-4206-80ea-939d1538bfa9"
      },
      "execution_count": null,
      "outputs": [
        {
          "output_type": "stream",
          "name": "stdout",
          "text": [
            "-1\n",
            "-3\n",
            "-5\n",
            "-7\n",
            "-9\n"
          ]
        }
      ]
    },
    {
      "cell_type": "code",
      "source": [
        "a=range(10,0,-1)\n",
        "for i in a:\n",
        "  print(i)"
      ],
      "metadata": {
        "colab": {
          "base_uri": "https://localhost:8080/"
        },
        "id": "29vCue2OP8ne",
        "outputId": "146e0815-53c6-4025-f8d1-bc7673a2ad59"
      },
      "execution_count": null,
      "outputs": [
        {
          "output_type": "stream",
          "name": "stdout",
          "text": [
            "10\n",
            "9\n",
            "8\n",
            "7\n",
            "6\n",
            "5\n",
            "4\n",
            "3\n",
            "2\n",
            "1\n"
          ]
        }
      ]
    },
    {
      "cell_type": "code",
      "source": [
        "s=\"space window\"\n",
        "a=len(s)\n",
        "print(a)\n",
        "for i in range(a):\n",
        "  print(i,\"=\",s[i])"
      ],
      "metadata": {
        "colab": {
          "base_uri": "https://localhost:8080/"
        },
        "id": "7HoadIPEP8qV",
        "outputId": "d86d57a4-cc45-4905-b221-2f32e8cb5185"
      },
      "execution_count": null,
      "outputs": [
        {
          "output_type": "stream",
          "name": "stdout",
          "text": [
            "12\n",
            "0 = s\n",
            "1 = p\n",
            "2 = a\n",
            "3 = c\n",
            "4 = e\n",
            "5 =  \n",
            "6 = w\n",
            "7 = i\n",
            "8 = n\n",
            "9 = d\n",
            "10 = o\n",
            "11 = w\n"
          ]
        }
      ]
    },
    {
      "cell_type": "markdown",
      "source": [
        "**nested_for_loop**"
      ],
      "metadata": {
        "id": "hiCPW8KYYbEY"
      }
    },
    {
      "cell_type": "code",
      "source": [
        "for i in range(5):\n",
        "  print(\" helo i am outerlopp\",i)\n",
        "  for j in range(3):\n",
        "    print(\" hey i am inner loop\",j)"
      ],
      "metadata": {
        "colab": {
          "base_uri": "https://localhost:8080/"
        },
        "id": "Tqac4wwFP8tL",
        "outputId": "080541af-cc62-4c52-f9ca-1de8d74751ee"
      },
      "execution_count": null,
      "outputs": [
        {
          "output_type": "stream",
          "name": "stdout",
          "text": [
            " helo i am outerlopp 0\n",
            " hey i am inner loop 0\n",
            " hey i am inner loop 1\n",
            " hey i am inner loop 2\n",
            " helo i am outerlopp 1\n",
            " hey i am inner loop 0\n",
            " hey i am inner loop 1\n",
            " hey i am inner loop 2\n",
            " helo i am outerlopp 2\n",
            " hey i am inner loop 0\n",
            " hey i am inner loop 1\n",
            " hey i am inner loop 2\n",
            " helo i am outerlopp 3\n",
            " hey i am inner loop 0\n",
            " hey i am inner loop 1\n",
            " hey i am inner loop 2\n",
            " helo i am outerlopp 4\n",
            " hey i am inner loop 0\n",
            " hey i am inner loop 1\n",
            " hey i am inner loop 2\n"
          ]
        }
      ]
    },
    {
      "cell_type": "code",
      "source": [
        "dir(list)"
      ],
      "metadata": {
        "id": "VGas-dnWP9Fs",
        "colab": {
          "base_uri": "https://localhost:8080/"
        },
        "outputId": "c38b2853-ebd8-4841-f189-8facd966f04a"
      },
      "execution_count": null,
      "outputs": [
        {
          "output_type": "execute_result",
          "data": {
            "text/plain": [
              "['__add__',\n",
              " '__class__',\n",
              " '__class_getitem__',\n",
              " '__contains__',\n",
              " '__delattr__',\n",
              " '__delitem__',\n",
              " '__dir__',\n",
              " '__doc__',\n",
              " '__eq__',\n",
              " '__format__',\n",
              " '__ge__',\n",
              " '__getattribute__',\n",
              " '__getitem__',\n",
              " '__gt__',\n",
              " '__hash__',\n",
              " '__iadd__',\n",
              " '__imul__',\n",
              " '__init__',\n",
              " '__init_subclass__',\n",
              " '__iter__',\n",
              " '__le__',\n",
              " '__len__',\n",
              " '__lt__',\n",
              " '__mul__',\n",
              " '__ne__',\n",
              " '__new__',\n",
              " '__reduce__',\n",
              " '__reduce_ex__',\n",
              " '__repr__',\n",
              " '__reversed__',\n",
              " '__rmul__',\n",
              " '__setattr__',\n",
              " '__setitem__',\n",
              " '__sizeof__',\n",
              " '__str__',\n",
              " '__subclasshook__',\n",
              " 'append',\n",
              " 'clear',\n",
              " 'copy',\n",
              " 'count',\n",
              " 'extend',\n",
              " 'index',\n",
              " 'insert',\n",
              " 'pop',\n",
              " 'remove',\n",
              " 'reverse',\n",
              " 'sort']"
            ]
          },
          "metadata": {},
          "execution_count": 6
        }
      ]
    },
    {
      "cell_type": "code",
      "source": [
        "dir(str)"
      ],
      "metadata": {
        "id": "wqpR0uWoP9IW",
        "colab": {
          "base_uri": "https://localhost:8080/"
        },
        "outputId": "97ea2687-5049-44c5-e0d6-7e6aecd3d94c"
      },
      "execution_count": null,
      "outputs": [
        {
          "output_type": "execute_result",
          "data": {
            "text/plain": [
              "['__add__',\n",
              " '__class__',\n",
              " '__contains__',\n",
              " '__delattr__',\n",
              " '__dir__',\n",
              " '__doc__',\n",
              " '__eq__',\n",
              " '__format__',\n",
              " '__ge__',\n",
              " '__getattribute__',\n",
              " '__getitem__',\n",
              " '__getnewargs__',\n",
              " '__gt__',\n",
              " '__hash__',\n",
              " '__init__',\n",
              " '__init_subclass__',\n",
              " '__iter__',\n",
              " '__le__',\n",
              " '__len__',\n",
              " '__lt__',\n",
              " '__mod__',\n",
              " '__mul__',\n",
              " '__ne__',\n",
              " '__new__',\n",
              " '__reduce__',\n",
              " '__reduce_ex__',\n",
              " '__repr__',\n",
              " '__rmod__',\n",
              " '__rmul__',\n",
              " '__setattr__',\n",
              " '__sizeof__',\n",
              " '__str__',\n",
              " '__subclasshook__',\n",
              " 'capitalize',\n",
              " 'casefold',\n",
              " 'center',\n",
              " 'count',\n",
              " 'encode',\n",
              " 'endswith',\n",
              " 'expandtabs',\n",
              " 'find',\n",
              " 'format',\n",
              " 'format_map',\n",
              " 'index',\n",
              " 'isalnum',\n",
              " 'isalpha',\n",
              " 'isascii',\n",
              " 'isdecimal',\n",
              " 'isdigit',\n",
              " 'isidentifier',\n",
              " 'islower',\n",
              " 'isnumeric',\n",
              " 'isprintable',\n",
              " 'isspace',\n",
              " 'istitle',\n",
              " 'isupper',\n",
              " 'join',\n",
              " 'ljust',\n",
              " 'lower',\n",
              " 'lstrip',\n",
              " 'maketrans',\n",
              " 'partition',\n",
              " 'removeprefix',\n",
              " 'removesuffix',\n",
              " 'replace',\n",
              " 'rfind',\n",
              " 'rindex',\n",
              " 'rjust',\n",
              " 'rpartition',\n",
              " 'rsplit',\n",
              " 'rstrip',\n",
              " 'split',\n",
              " 'splitlines',\n",
              " 'startswith',\n",
              " 'strip',\n",
              " 'swapcase',\n",
              " 'title',\n",
              " 'translate',\n",
              " 'upper',\n",
              " 'zfill']"
            ]
          },
          "metadata": {},
          "execution_count": 7
        }
      ]
    },
    {
      "cell_type": "code",
      "source": [
        "len()\n",
        "find()#if not find -1\n",
        "count\n",
        "upper()\n",
        "lower()\n",
        "title()\n",
        "captalize()"
      ],
      "metadata": {
        "id": "pJxsFun0P9L0"
      },
      "execution_count": null,
      "outputs": []
    },
    {
      "cell_type": "code",
      "source": [
        "\"sunil\"*4"
      ],
      "metadata": {
        "id": "gAb7zqfZqHHW",
        "outputId": "0d438b04-ea50-4a11-dc22-05714308e831",
        "colab": {
          "base_uri": "https://localhost:8080/",
          "height": 36
        }
      },
      "execution_count": null,
      "outputs": [
        {
          "output_type": "execute_result",
          "data": {
            "text/plain": [
              "'sunilsunilsunilsunil'"
            ],
            "application/vnd.google.colaboratory.intrinsic+json": {
              "type": "string"
            }
          },
          "metadata": {},
          "execution_count": 8
        }
      ]
    },
    {
      "cell_type": "markdown",
      "source": [
        "While Loop Examples:\n",
        "# New section"
      ],
      "metadata": {
        "id": "Ov7DgE3mqHKc"
      }
    },
    {
      "cell_type": "code",
      "source": [
        "i = 0\n",
        "while i < 10:\n",
        "    print(i)\n",
        "    i += 1\n",
        "    if i == 5:\n",
        "        break  # Exit loop when i equals 5\n"
      ],
      "metadata": {
        "colab": {
          "base_uri": "https://localhost:8080/"
        },
        "id": "I29f6pfKQ5Hd",
        "outputId": "b442df46-b34a-4799-c291-0c96d1aed69a"
      },
      "execution_count": 1,
      "outputs": [
        {
          "output_type": "stream",
          "name": "stdout",
          "text": [
            "0\n",
            "1\n",
            "2\n",
            "3\n",
            "4\n"
          ]
        }
      ]
    },
    {
      "cell_type": "code",
      "source": [
        "i = 0\n",
        "while i < 10:\n",
        "    i += 1\n",
        "    if i % 2 != 0:\n",
        "        continue  # Skip odd numbers\n",
        "    print(i)\n"
      ],
      "metadata": {
        "colab": {
          "base_uri": "https://localhost:8080/"
        },
        "id": "OxuTKMlFQ95v",
        "outputId": "52facfba-c91b-4825-f244-1a17d18bdc4d"
      },
      "execution_count": 2,
      "outputs": [
        {
          "output_type": "stream",
          "name": "stdout",
          "text": [
            "2\n",
            "4\n",
            "6\n",
            "8\n",
            "10\n"
          ]
        }
      ]
    },
    {
      "cell_type": "code",
      "source": [
        "i = -5\n",
        "while i < 10:\n",
        "    if i > 0:\n",
        "        print(\"First positive number:\", i)\n",
        "        break  # Exit loop after finding the first positive number\n",
        "    i += 1\n"
      ],
      "metadata": {
        "colab": {
          "base_uri": "https://localhost:8080/"
        },
        "id": "6T9k2HVeRBVo",
        "outputId": "1de27594-642d-4d7e-a069-a5081b9ca4cb"
      },
      "execution_count": 3,
      "outputs": [
        {
          "output_type": "stream",
          "name": "stdout",
          "text": [
            "First positive number: 1\n"
          ]
        }
      ]
    },
    {
      "cell_type": "code",
      "source": [
        "while True:\n",
        "    user_input = input(\"Enter a positive number: \")\n",
        "    if not user_input.isdigit() or int(user_input) <= 0:\n",
        "        print(\"Invalid input. Please enter a positive number.\")\n",
        "        continue\n",
        "    print(\"You entered:\", user_input)\n",
        "    break  # Exit loop if input is valid\n"
      ],
      "metadata": {
        "colab": {
          "base_uri": "https://localhost:8080/"
        },
        "id": "55xAgpwjRDbp",
        "outputId": "6fe45937-baeb-4747-83fb-6f925a28f2e7"
      },
      "execution_count": 4,
      "outputs": [
        {
          "output_type": "stream",
          "name": "stdout",
          "text": [
            "Enter a positive number: 2\n",
            "You entered: 2\n"
          ]
        }
      ]
    },
    {
      "cell_type": "code",
      "source": [
        "while True:\n",
        "    user_input = input(\"Enter 'exit' to quit: \")\n",
        "    if user_input.lower() == 'exit':\n",
        "        print(\"Exiting loop...\")\n",
        "        break  # Exit loop if user enters 'exit'\n",
        "    print(\"You entered:\", user_input)\n"
      ],
      "metadata": {
        "colab": {
          "base_uri": "https://localhost:8080/"
        },
        "id": "BpfQXMNqRFt7",
        "outputId": "e91f3a19-77e2-4524-e883-532311fbe4ad"
      },
      "execution_count": 5,
      "outputs": [
        {
          "output_type": "stream",
          "name": "stdout",
          "text": [
            "Enter 'exit' to quit: 34\n",
            "You entered: 34\n",
            "Enter 'exit' to quit: exit\n",
            "Exiting loop...\n"
          ]
        }
      ]
    },
    {
      "cell_type": "code",
      "source": [
        "# For Loop Examples:"
      ],
      "metadata": {
        "id": "4uqL3goCRKTT"
      },
      "execution_count": null,
      "outputs": []
    },
    {
      "cell_type": "code",
      "source": [
        "for i in range(10):\n",
        "    print(i)\n",
        "    if i == 5:\n",
        "        break  # Exit loop when i equals 5\n"
      ],
      "metadata": {
        "colab": {
          "base_uri": "https://localhost:8080/"
        },
        "id": "azCfXdzdRR1v",
        "outputId": "49d1bb41-109b-41af-ddc3-2da34db198fe"
      },
      "execution_count": 6,
      "outputs": [
        {
          "output_type": "stream",
          "name": "stdout",
          "text": [
            "0\n",
            "1\n",
            "2\n",
            "3\n",
            "4\n",
            "5\n"
          ]
        }
      ]
    },
    {
      "cell_type": "code",
      "source": [
        "for i in range(1, 10):\n",
        "    if i % 2 != 0:\n",
        "        continue  # Skip odd numbers\n",
        "    print(i)\n"
      ],
      "metadata": {
        "colab": {
          "base_uri": "https://localhost:8080/"
        },
        "id": "qkzL_xcbRU-t",
        "outputId": "503352dc-8245-4214-aaa4-bb1af1e16d54"
      },
      "execution_count": 7,
      "outputs": [
        {
          "output_type": "stream",
          "name": "stdout",
          "text": [
            "2\n",
            "4\n",
            "6\n",
            "8\n"
          ]
        }
      ]
    },
    {
      "cell_type": "code",
      "source": [
        "for i in range(-5, 10):\n",
        "    if i > 0:\n",
        "        print(\"First positive number:\", i)\n",
        "        break  # Exit loop after finding the first positive number\n"
      ],
      "metadata": {
        "colab": {
          "base_uri": "https://localhost:8080/"
        },
        "id": "2moQureKRXW_",
        "outputId": "827b15dc-364a-4e08-a6a8-61c3047d1647"
      },
      "execution_count": 8,
      "outputs": [
        {
          "output_type": "stream",
          "name": "stdout",
          "text": [
            "First positive number: 1\n"
          ]
        }
      ]
    },
    {
      "cell_type": "code",
      "source": [
        "items = [3, 7, -2, 9, 0, -5]\n",
        "for item in items:\n",
        "    if item < 0:\n",
        "        print(\"Negative item found:\", item)\n",
        "        break  # Exit loop on first negative item\n"
      ],
      "metadata": {
        "colab": {
          "base_uri": "https://localhost:8080/"
        },
        "id": "EXYQQkPWRZlc",
        "outputId": "1ffc66c3-4d5d-45d3-90da-16388b5a045d"
      },
      "execution_count": 9,
      "outputs": [
        {
          "output_type": "stream",
          "name": "stdout",
          "text": [
            "Negative item found: -2\n"
          ]
        }
      ]
    },
    {
      "cell_type": "code",
      "source": [
        "for i in range(3):\n",
        "    for j in range(3):\n",
        "        print(i, j)\n",
        "        if j == 1:\n",
        "            break  # Exit inner loop when j equals 1\n"
      ],
      "metadata": {
        "colab": {
          "base_uri": "https://localhost:8080/"
        },
        "id": "0Yv00FRjRcH9",
        "outputId": "9c3066fe-07b5-4498-f189-3d05d69959f0"
      },
      "execution_count": 10,
      "outputs": [
        {
          "output_type": "stream",
          "name": "stdout",
          "text": [
            "0 0\n",
            "0 1\n",
            "1 0\n",
            "1 1\n",
            "2 0\n",
            "2 1\n"
          ]
        }
      ]
    },
    {
      "cell_type": "code",
      "source": [],
      "metadata": {
        "id": "fuyp_2vNReT4"
      },
      "execution_count": null,
      "outputs": []
    }
  ]
}